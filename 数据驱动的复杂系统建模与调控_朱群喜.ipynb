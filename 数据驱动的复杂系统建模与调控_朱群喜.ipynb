{
 "cells": [
  {
   "cell_type": "markdown",
   "id": "4be5c094-56fa-482e-a60b-6ff92aa693a8",
   "metadata": {},
   "source": [
    "# 复杂系统建模\n",
    "# 数据驱动的复杂系统建模与调控"
   ]
  },
  {
   "cell_type": "markdown",
   "id": "68cbd9d6-d300-4a1c-90a0-e41e8bfca2ba",
   "metadata": {},
   "source": [
    "### 复旦大学 智能复杂体系基础理论与关键技术实验室 朱群喜"
   ]
  },
  {
   "cell_type": "markdown",
   "id": "4cba92a1-ea93-4354-9cb7-61234390917a",
   "metadata": {},
   "source": [
    "#### <font color=\"blue\">1.1代表性成果一.复杂系统驱动的新型机器学习框架设计</font>\n",
    "科学问题: 如何设计机理与智能融合的复杂系统驱动的新型机器学习框架"
   ]
  },
  {
   "cell_type": "markdown",
   "id": "ff8b0ee6-9878-4be6-aa5a-1c46ea95f461",
   "metadata": {},
   "source": [
    "（1）储备池计算（reservoir computing）:输入权重矩阵$W_i$和循环矩阵$W_r$是随机生成的，并且是稀疏的，权重生成之后就不变了，所以只需要学最后一层输出层$W_0$，输出层是线性的。\n",
    "<font color=\"red\">传统方法忽略高维复杂系统的耦合结构。</font>"
   ]
  },
  {
   "cell_type": "markdown",
   "id": "df0bad77-bd0c-4008-a7c0-4b81e12abcb2",
   "metadata": {},
   "source": [
    "（2）Koopman算子：把非线性问题转换为线性问题。<font color=\"red\">缺乏数学物理理论保证。</font>"
   ]
  },
  {
   "cell_type": "markdown",
   "id": "232d79c2-3110-485b-8967-78521a7dfd37",
   "metadata": {},
   "source": [
    "（3）连续深度神经网络：具有代表性的是Neural ODE，2018NeurIPS最佳论文。<font color=\"red\">神经ODEs不是万有逼近器。</font>"
   ]
  },
  {
   "cell_type": "markdown",
   "id": "c35af4ea-4379-47a7-99c7-211022b9f293",
   "metadata": {},
   "source": [
    "**解决方案**：  \n",
    "（1）嵌入高阶网络拓扑；  \n",
    "（2）嵌入数学物理知识；  \n",
    "（3）嵌入无限维动力学；"
   ]
  },
  {
   "cell_type": "markdown",
   "id": "173a8850-6a37-4de0-8c44-27938b8d981e",
   "metadata": {},
   "source": [
    "**具体工作**：  \n",
    "（1）构建基于高阶网络与格兰杰因果的储备池计算框架。可以推断底层复杂网络。  \n",
    "（2）构建数学物理先验知识嵌入的神经Koopman算子。  \n",
    "（3）构建无限维动力学理论启发的神经时滞微分方程。引入时滞对象，可以建模非马氏动力学。"
   ]
  },
  {
   "cell_type": "markdown",
   "id": "fef1ecf8-bd60-4754-9ef0-2f1b005a9034",
   "metadata": {},
   "source": [
    "**科学意义**：实现精准的动力学预测；揭示物理系统守恒定律；证明模型万有逼近能力。形成特色机器学习模型，为多学科领域交叉研究提供技术支撑与理论依据。\n"
   ]
  },
  {
   "cell_type": "markdown",
   "id": "a32d56d9-1366-44b0-97b2-7fa7b1362d91",
   "metadata": {},
   "source": [
    "<font color=\"green\">**拓展空间**</font>：  \n",
    "定量刻画不确定性的机器学习框架；随机复杂系统演化预测。"
   ]
  },
  {
   "cell_type": "markdown",
   "id": "951c0b20-5740-4730-bd21-b831ac81dbb7",
   "metadata": {},
   "source": [
    "#### <font color=\"blue\">1.2代表性成果二.数据驱动的复杂系统建模</font>\n",
    "科学问题：如何设计有效算法来识别复杂系统的临界点与不稳定周期轨道？"
   ]
  },
  {
   "cell_type": "markdown",
   "id": "ea7fba80-ed7f-435b-9d34-870650867e3d",
   "metadata": {},
   "source": [
    "（1）临界点检测：通用指标检测临界现象。<font color=\"red\">复杂系统运行机理不清楚且缺乏动力学刻画。</font>"
   ]
  },
  {
   "cell_type": "markdown",
   "id": "0d329705-d939-430b-b47a-49e108937d68",
   "metadata": {},
   "source": [
    "（2）不稳定周期轨道（UPO）：OGY方法实现UPO镇定。<font color=\"red\">然而UPO需要事先给定且对数据要求严苛。</font>"
   ]
  },
  {
   "cell_type": "markdown",
   "id": "c96105e1-d1db-4c51-b92a-62884a68c24f",
   "metadata": {},
   "source": [
    "**难点**：  \n",
    "（1）高维、非线性、噪声；  \n",
    "（2）不稳定周期轨道不可观测；  \n",
    "（3）观测数据完全、稠密；"
   ]
  },
  {
   "cell_type": "markdown",
   "id": "931221f3-ce5e-46fa-9c61-aa85622a0548",
   "metadata": {},
   "source": [
    "**解决方案**：  \n",
    "（1）提取动力学表征；  \n",
    "（2）融合机理-智能；  \n",
    "（3）降低对观测数据要求，只需要部分观测、稀疏；"
   ]
  },
  {
   "cell_type": "markdown",
   "id": "7bbf61af-2a01-48cb-b82a-d2579b5ad5fc",
   "metadata": {},
   "source": [
    "**具体工作**：  \n",
    "（1）临界点识别算法框架：借助储备池计算，将输出层的权重视作动力学表征，可以刻画动力学。  \n",
    "（2）UPO识别算法框架：结合神经常微分方程和自适应时滞反馈控制。"
   ]
  },
  {
   "cell_type": "markdown",
   "id": "3d44b630-26fb-4733-9dd5-35c745a3246e",
   "metadata": {},
   "source": [
    "#### <font color=\"blue\">1.3代表性成果三.复杂系统智能控制理论方法与算法设计</font>\n",
    "科学问题：如何利用随机噪音设计智能控制器以及相应的控制理论与算法？"
   ]
  },
  {
   "cell_type": "markdown",
   "id": "b810e9f4-fd73-4edc-bbf0-50ebb69cc0d9",
   "metadata": {},
   "source": [
    "**难点**：  \n",
    "（1）系统高维、非线性、不确定性；  \n",
    "（2）需要人为设计控制器和构造辅助函数；"
   ]
  },
  {
   "cell_type": "markdown",
   "id": "9f69b477-ba84-4b21-9016-d358cd766777",
   "metadata": {},
   "source": [
    "**解决方案**：  \n",
    "基于传统随机控制与神经网络控制理论方法，设计随机版本的神经控制器。"
   ]
  },
  {
   "cell_type": "markdown",
   "id": "3c7495a9-82a5-43f8-85ff-df7bc272231a",
   "metadata": {},
   "source": [
    "**创新性成果**：  \n",
    "（1）提出基于随机镇定理论的神经随机控制理论算法；  \n",
    "（2）提出具有安全性保证的神经随机控制理论算法；"
   ]
  },
  {
   "cell_type": "markdown",
   "id": "5bfb93bb-3902-499a-8f22-c161f8573d14",
   "metadata": {},
   "source": [
    "**科学意义**：  \n",
    "为深入研究复杂系统调控提供理论基础与技术支撑；有助于发现新的辅助函数（传统方法需要依赖于数学家人为设计）并证明新的随机镇定理论。"
   ]
  },
  {
   "cell_type": "markdown",
   "id": "68a95b73-bb3a-4349-9f1a-d4049fa25203",
   "metadata": {},
   "source": [
    "<font color=\"green\">**拓展空间**</font>：  \n",
    "设计无模型的神经随机控制；应用与无人系统集群控制场景。"
   ]
  }
 ],
 "metadata": {
  "kernelspec": {
   "display_name": "Python 3 (ipykernel)",
   "language": "python",
   "name": "python3"
  },
  "language_info": {
   "codemirror_mode": {
    "name": "ipython",
    "version": 3
   },
   "file_extension": ".py",
   "mimetype": "text/x-python",
   "name": "python",
   "nbconvert_exporter": "python",
   "pygments_lexer": "ipython3",
   "version": "3.11.7"
  }
 },
 "nbformat": 4,
 "nbformat_minor": 5
}
